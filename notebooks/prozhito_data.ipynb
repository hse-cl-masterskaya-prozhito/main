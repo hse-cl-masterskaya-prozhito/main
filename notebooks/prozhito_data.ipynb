{
  "nbformat": 4,
  "nbformat_minor": 0,
  "metadata": {
    "colab": {
      "name": "prozhito_data",
      "provenance": [],
      "collapsed_sections": [],
      "toc_visible": true
    },
    "kernelspec": {
      "name": "python3",
      "display_name": "Python 3"
    },
    "language_info": {
      "name": "python"
    }
  },
  "cells": [
    {
      "cell_type": "code",
      "metadata": {
        "id": "n9GjjVAeWzZ9"
      },
      "source": [
        "import pandas as pd \n",
        "import numpy as np \n",
        "import matplotlib.pyplot as plt \n",
        "import seaborn as sns \n",
        "import ast\n",
        "from collections import defaultdict, Counter\n",
        "from sklearn.model_selection import train_test_split\n",
        "import re"
      ],
      "execution_count": 1,
      "outputs": []
    },
    {
      "cell_type": "code",
      "metadata": {
        "id": "ILzJtmmXh3oi"
      },
      "source": [
        "sns.set()"
      ],
      "execution_count": 2,
      "outputs": []
    },
    {
      "cell_type": "code",
      "metadata": {
        "colab": {
          "base_uri": "https://localhost:8080/"
        },
        "id": "yNpxXHRUW-gp",
        "outputId": "1d7fd323-d4f2-4f4c-f8be-d922c9b040b8"
      },
      "source": [
        "from google.colab import drive \n",
        "\n",
        "drive.mount('/content/drive')"
      ],
      "execution_count": 3,
      "outputs": [
        {
          "output_type": "stream",
          "name": "stdout",
          "text": [
            "Drive already mounted at /content/drive; to attempt to forcibly remount, call drive.mount(\"/content/drive\", force_remount=True).\n"
          ]
        }
      ]
    },
    {
      "cell_type": "code",
      "metadata": {
        "colab": {
          "base_uri": "https://localhost:8080/",
          "height": 143
        },
        "id": "yBFTVjLSXC64",
        "outputId": "e4f9a532-ddc9-4521-908d-065e6bf0d387"
      },
      "source": [
        "df = pd.read_csv('./drive/MyDrive/prozhito/datasets/bio_ann_final.tsv', sep='\\t')\n",
        "df = df.drop('Unnamed: 0', axis=1)\n",
        "df.columns = ['tokens', 'BIO_str']\n",
        "df.head(3)"
      ],
      "execution_count": 4,
      "outputs": [
        {
          "output_type": "execute_result",
          "data": {
            "text/html": [
              "<div>\n",
              "<style scoped>\n",
              "    .dataframe tbody tr th:only-of-type {\n",
              "        vertical-align: middle;\n",
              "    }\n",
              "\n",
              "    .dataframe tbody tr th {\n",
              "        vertical-align: top;\n",
              "    }\n",
              "\n",
              "    .dataframe thead th {\n",
              "        text-align: right;\n",
              "    }\n",
              "</style>\n",
              "<table border=\"1\" class=\"dataframe\">\n",
              "  <thead>\n",
              "    <tr style=\"text-align: right;\">\n",
              "      <th></th>\n",
              "      <th>tokens</th>\n",
              "      <th>BIO_str</th>\n",
              "    </tr>\n",
              "  </thead>\n",
              "  <tbody>\n",
              "    <tr>\n",
              "      <th>0</th>\n",
              "      <td>У меня большая симпатия к Лукьянину — человек ...</td>\n",
              "      <td>O O O O O O O O O O O O O O O O O O O O O</td>\n",
              "    </tr>\n",
              "    <tr>\n",
              "      <th>1</th>\n",
              "      <td>Потому , что не было уверенности , что все чит...</td>\n",
              "      <td>O O O O O O O O O O O O O O O O O O O O O O O ...</td>\n",
              "    </tr>\n",
              "    <tr>\n",
              "      <th>2</th>\n",
              "      <td>&gt; Каким приговором , указом каким &gt; Ты здесь ,...</td>\n",
              "      <td>O O O O O O O O O O O O O O O O O</td>\n",
              "    </tr>\n",
              "  </tbody>\n",
              "</table>\n",
              "</div>"
            ],
            "text/plain": [
              "                                              tokens                                            BIO_str\n",
              "0  У меня большая симпатия к Лукьянину — человек ...          O O O O O O O O O O O O O O O O O O O O O\n",
              "1  Потому , что не было уверенности , что все чит...  O O O O O O O O O O O O O O O O O O O O O O O ...\n",
              "2  > Каким приговором , указом каким > Ты здесь ,...                  O O O O O O O O O O O O O O O O O"
            ]
          },
          "metadata": {},
          "execution_count": 4
        }
      ]
    },
    {
      "cell_type": "markdown",
      "metadata": {
        "id": "usY_eDSZAo93"
      },
      "source": [
        "Map tags into numbers"
      ]
    },
    {
      "cell_type": "code",
      "metadata": {
        "id": "Bl-PcykfAmFN"
      },
      "source": [
        "with open(\"/content/drive/MyDrive/prozhito/tags_dict.txt\", \"r\") as f:\n",
        "    contents = f.read()\n",
        "    tags_dict = ast.literal_eval(contents)\n",
        "\n",
        "with open(\"/content/drive/MyDrive/prozhito/BIO_dict.txt\", \"r\") as f: \n",
        "    contents = f.read()\n",
        "    BIO_dict = ast.literal_eval(contents)\n",
        "\n",
        "BIO_dict_domain = {value : key for (key, value) in tags_dict.items()}"
      ],
      "execution_count": 5,
      "outputs": []
    },
    {
      "cell_type": "code",
      "metadata": {
        "colab": {
          "base_uri": "https://localhost:8080/"
        },
        "id": "lu0cMwOQVSe5",
        "outputId": "5009ad1b-03b0-444a-be73-ca141027da9a"
      },
      "source": [
        "BIO_dict_domain"
      ],
      "execution_count": 6,
      "outputs": [
        {
          "output_type": "execute_result",
          "data": {
            "text/plain": [
              "{'CHAR': 'Характеристика',\n",
              " 'FAC': 'Учреждение',\n",
              " 'LOC': 'Место',\n",
              " 'O': 'O',\n",
              " 'ORG': 'Организация',\n",
              " 'PER': 'Персона'}"
            ]
          },
          "metadata": {},
          "execution_count": 6
        }
      ]
    },
    {
      "cell_type": "code",
      "metadata": {
        "colab": {
          "base_uri": "https://localhost:8080/",
          "height": 195
        },
        "id": "9SmcG5dkBDIf",
        "outputId": "42414498-3a32-4628-ff66-32cc34df1c84"
      },
      "source": [
        "df['BIO_str'] = df['BIO_str'].apply(lambda x: re.sub('.-MISC', 'O', x))\n",
        "df.drop_duplicates('tokens').shape == df.shape\n",
        "df['BIO_nums'] = df.BIO_str.apply(lambda x: [BIO_dict.get(i) for i in x.split()])\n",
        "df['BIO_list'] = df.BIO_str.apply(lambda x:x.split())\n",
        "df.head(3)"
      ],
      "execution_count": 7,
      "outputs": [
        {
          "output_type": "execute_result",
          "data": {
            "text/html": [
              "<div>\n",
              "<style scoped>\n",
              "    .dataframe tbody tr th:only-of-type {\n",
              "        vertical-align: middle;\n",
              "    }\n",
              "\n",
              "    .dataframe tbody tr th {\n",
              "        vertical-align: top;\n",
              "    }\n",
              "\n",
              "    .dataframe thead th {\n",
              "        text-align: right;\n",
              "    }\n",
              "</style>\n",
              "<table border=\"1\" class=\"dataframe\">\n",
              "  <thead>\n",
              "    <tr style=\"text-align: right;\">\n",
              "      <th></th>\n",
              "      <th>tokens</th>\n",
              "      <th>BIO_str</th>\n",
              "      <th>BIO_nums</th>\n",
              "      <th>BIO_list</th>\n",
              "    </tr>\n",
              "  </thead>\n",
              "  <tbody>\n",
              "    <tr>\n",
              "      <th>0</th>\n",
              "      <td>У меня большая симпатия к Лукьянину — человек ...</td>\n",
              "      <td>O O O O O O O O O O O O O O O O O O O O O</td>\n",
              "      <td>[10, 10, 10, 10, 10, 10, 10, 10, 10, 10, 10, 1...</td>\n",
              "      <td>[O, O, O, O, O, O, O, O, O, O, O, O, O, O, O, ...</td>\n",
              "    </tr>\n",
              "    <tr>\n",
              "      <th>1</th>\n",
              "      <td>Потому , что не было уверенности , что все чит...</td>\n",
              "      <td>O O O O O O O O O O O O O O O O O O O O O O O ...</td>\n",
              "      <td>[10, 10, 10, 10, 10, 10, 10, 10, 10, 10, 10, 1...</td>\n",
              "      <td>[O, O, O, O, O, O, O, O, O, O, O, O, O, O, O, ...</td>\n",
              "    </tr>\n",
              "    <tr>\n",
              "      <th>2</th>\n",
              "      <td>&gt; Каким приговором , указом каким &gt; Ты здесь ,...</td>\n",
              "      <td>O O O O O O O O O O O O O O O O O</td>\n",
              "      <td>[10, 10, 10, 10, 10, 10, 10, 10, 10, 10, 10, 1...</td>\n",
              "      <td>[O, O, O, O, O, O, O, O, O, O, O, O, O, O, O, ...</td>\n",
              "    </tr>\n",
              "  </tbody>\n",
              "</table>\n",
              "</div>"
            ],
            "text/plain": [
              "                                              tokens  ...                                           BIO_list\n",
              "0  У меня большая симпатия к Лукьянину — человек ...  ...  [O, O, O, O, O, O, O, O, O, O, O, O, O, O, O, ...\n",
              "1  Потому , что не было уверенности , что все чит...  ...  [O, O, O, O, O, O, O, O, O, O, O, O, O, O, O, ...\n",
              "2  > Каким приговором , указом каким > Ты здесь ,...  ...  [O, O, O, O, O, O, O, O, O, O, O, O, O, O, O, ...\n",
              "\n",
              "[3 rows x 4 columns]"
            ]
          },
          "metadata": {},
          "execution_count": 7
        }
      ]
    },
    {
      "cell_type": "markdown",
      "metadata": {
        "id": "YLmDVDWyBw2P"
      },
      "source": [
        "Look at the tags' frequencies"
      ]
    },
    {
      "cell_type": "code",
      "metadata": {
        "id": "HLvhTLnbBq1J"
      },
      "source": [
        "all_bio = []\n",
        "for l in df.BIO_list:\n",
        "    all_bio.extend(l)\n",
        "    \n",
        "bio_counter = Counter(all_bio)"
      ],
      "execution_count": 8,
      "outputs": []
    },
    {
      "cell_type": "code",
      "metadata": {
        "colab": {
          "base_uri": "https://localhost:8080/",
          "height": 394
        },
        "id": "kaPf6OvORWl8",
        "outputId": "a013522b-a9ab-4fd5-bb8f-bde52197c3d9"
      },
      "source": [
        "pd.DataFrame({'tag': sorted(list(bio_counter.keys())),\n",
        "              'number of occurence in corpus': [bio_counter[i] for i in sorted(list(bio_counter.keys()))]})"
      ],
      "execution_count": 9,
      "outputs": [
        {
          "output_type": "execute_result",
          "data": {
            "text/html": [
              "<div>\n",
              "<style scoped>\n",
              "    .dataframe tbody tr th:only-of-type {\n",
              "        vertical-align: middle;\n",
              "    }\n",
              "\n",
              "    .dataframe tbody tr th {\n",
              "        vertical-align: top;\n",
              "    }\n",
              "\n",
              "    .dataframe thead th {\n",
              "        text-align: right;\n",
              "    }\n",
              "</style>\n",
              "<table border=\"1\" class=\"dataframe\">\n",
              "  <thead>\n",
              "    <tr style=\"text-align: right;\">\n",
              "      <th></th>\n",
              "      <th>tag</th>\n",
              "      <th>number of occurence in corpus</th>\n",
              "    </tr>\n",
              "  </thead>\n",
              "  <tbody>\n",
              "    <tr>\n",
              "      <th>0</th>\n",
              "      <td>B-CHAR</td>\n",
              "      <td>306</td>\n",
              "    </tr>\n",
              "    <tr>\n",
              "      <th>1</th>\n",
              "      <td>B-FAC</td>\n",
              "      <td>11</td>\n",
              "    </tr>\n",
              "    <tr>\n",
              "      <th>2</th>\n",
              "      <td>B-LOC</td>\n",
              "      <td>102</td>\n",
              "    </tr>\n",
              "    <tr>\n",
              "      <th>3</th>\n",
              "      <td>B-ORG</td>\n",
              "      <td>19</td>\n",
              "    </tr>\n",
              "    <tr>\n",
              "      <th>4</th>\n",
              "      <td>B-PER</td>\n",
              "      <td>527</td>\n",
              "    </tr>\n",
              "    <tr>\n",
              "      <th>5</th>\n",
              "      <td>I-CHAR</td>\n",
              "      <td>10</td>\n",
              "    </tr>\n",
              "    <tr>\n",
              "      <th>6</th>\n",
              "      <td>I-FAC</td>\n",
              "      <td>1</td>\n",
              "    </tr>\n",
              "    <tr>\n",
              "      <th>7</th>\n",
              "      <td>I-LOC</td>\n",
              "      <td>7</td>\n",
              "    </tr>\n",
              "    <tr>\n",
              "      <th>8</th>\n",
              "      <td>I-ORG</td>\n",
              "      <td>10</td>\n",
              "    </tr>\n",
              "    <tr>\n",
              "      <th>9</th>\n",
              "      <td>I-PER</td>\n",
              "      <td>242</td>\n",
              "    </tr>\n",
              "    <tr>\n",
              "      <th>10</th>\n",
              "      <td>O</td>\n",
              "      <td>22119</td>\n",
              "    </tr>\n",
              "  </tbody>\n",
              "</table>\n",
              "</div>"
            ],
            "text/plain": [
              "       tag  number of occurence in corpus\n",
              "0   B-CHAR                            306\n",
              "1    B-FAC                             11\n",
              "2    B-LOC                            102\n",
              "3    B-ORG                             19\n",
              "4    B-PER                            527\n",
              "5   I-CHAR                             10\n",
              "6    I-FAC                              1\n",
              "7    I-LOC                              7\n",
              "8    I-ORG                             10\n",
              "9    I-PER                            242\n",
              "10       O                          22119"
            ]
          },
          "metadata": {},
          "execution_count": 9
        }
      ]
    },
    {
      "cell_type": "code",
      "metadata": {
        "colab": {
          "base_uri": "https://localhost:8080/"
        },
        "id": "f-q31MnlLIYm",
        "outputId": "da148a4f-873c-4288-f809-707961abbd48"
      },
      "source": [
        "label_list = ['B-LOC', 'I-LOC', 'B-ORG', 'I-ORG', 'B-FAC', 'I-FAC', 'B-PER', 'I-PER', 'B-CHAR', 'I-CHAR', 'O']\n",
        "len(label_list)"
      ],
      "execution_count": 10,
      "outputs": [
        {
          "output_type": "execute_result",
          "data": {
            "text/plain": [
              "11"
            ]
          },
          "metadata": {},
          "execution_count": 10
        }
      ]
    },
    {
      "cell_type": "code",
      "metadata": {
        "id": "IDUv_7nMV6Kq"
      },
      "source": [
        "def dict_col(d, dc):\n",
        "  x = []\n",
        "  y = []\n",
        "  cols = []\n",
        "  for key in d.keys():\n",
        "    cols.append(dc.get(key.split('-')[-1]))\n",
        "    x.append(key)\n",
        "    y.append(d[key])\n",
        "  return x, y, cols"
      ],
      "execution_count": 11,
      "outputs": []
    },
    {
      "cell_type": "code",
      "metadata": {
        "colab": {
          "base_uri": "https://localhost:8080/",
          "height": 392
        },
        "id": "VutF9K6QV6OU",
        "outputId": "f90f459b-e6a8-4346-cac0-66a3e6ce2706"
      },
      "source": [
        "colors = {'O': '#FEC2D1', 'LOC': '#FEC2D1', 'FAC':  '#FECA74', 'PER' : '#FE7496', 'CHAR': '#77AEFC', 'ORG': '#D0CCFC'}\n",
        "x, y, cols = dict_col(bio_counter, colors)\n",
        "plt.figure(figsize=(10, 5))\n",
        "plt.xticks(rotation=70)\n",
        "plt.bar(x,\n",
        "        np.log(list(y)),\n",
        "       color=cols)\n",
        "plt.xlabel('Slot type', size=14)\n",
        "plt.ylabel('Logged number of tags', size=14)\n",
        "plt.title('Logged distribution of intent types in Prozhito corpus', size=15)\n",
        "plt.show()"
      ],
      "execution_count": 12,
      "outputs": [
        {
          "output_type": "display_data",
          "data": {
            "image/png": "[encoded data removed]",
            "text/plain": [
              "<Figure size 720x360 with 1 Axes>"
            ]
          },
          "metadata": {}
        }
      ]
    },
    {
      "cell_type": "code",
      "metadata": {
        "id": "RIG5A3KvXGxh"
      },
      "source": [
        "bio_domains = {}\n",
        "for key in bio_counter.keys():\n",
        "  dk = key.split('-')[-1]\n",
        "  if dk in bio_domains:\n",
        "    bio_domains[dk] += bio_counter[key]\n",
        "  else: \n",
        "    bio_domains[dk] = bio_counter[key]  "
      ],
      "execution_count": 13,
      "outputs": []
    },
    {
      "cell_type": "code",
      "metadata": {
        "colab": {
          "base_uri": "https://localhost:8080/",
          "height": 381
        },
        "id": "NWmmP-EZV6R-",
        "outputId": "c22375f1-2633-4e58-e9fc-aa1b46ca04fd"
      },
      "source": [
        "x, y, cols = dict_col(bio_domains, colors)\n",
        "plt.figure(figsize=(10, 5))\n",
        "plt.xticks(rotation=70)\n",
        "plt.bar(x,\n",
        "        np.log(list(y)),\n",
        "       color=cols)\n",
        "plt.xlabel('Slot type', size=14)\n",
        "plt.ylabel('Logged number of tags', size=14)\n",
        "plt.title('Logged distribution of intent types in Prozhito corpus', size=15)\n",
        "plt.show()"
      ],
      "execution_count": 14,
      "outputs": [
        {
          "output_type": "display_data",
          "data": {
            "image/png": "[encoded data removed]",
            "text/plain": [
              "<Figure size 720x360 with 1 Axes>"
            ]
          },
          "metadata": {}
        }
      ]
    },
    {
      "cell_type": "code",
      "metadata": {
        "colab": {
          "base_uri": "https://localhost:8080/",
          "height": 247
        },
        "id": "Bq1PxbjPXxkc",
        "outputId": "2bbaa7b9-78f4-4476-f6b8-cbb5e7d56152"
      },
      "source": [
        "plt.pie(np.log(list(y)), labels = x, colors=cols)\n",
        "plt.show()"
      ],
      "execution_count": 15,
      "outputs": [
        {
          "output_type": "display_data",
          "data": {
            "image/png": "[encoded data removed]",
            "text/plain": [
              "<Figure size 432x288 with 1 Axes>"
            ]
          },
          "metadata": {}
        }
      ]
    },
    {
      "cell_type": "code",
      "metadata": {
        "colab": {
          "base_uri": "https://localhost:8080/"
        },
        "id": "_ZZYhSZbap-Q",
        "outputId": "07f727f7-c416-40fd-ffe2-6d9efb8e05e1"
      },
      "source": [
        "bio_domains"
      ],
      "execution_count": 16,
      "outputs": [
        {
          "output_type": "execute_result",
          "data": {
            "text/plain": [
              "{'CHAR': 316, 'FAC': 12, 'LOC': 109, 'O': 22119, 'ORG': 29, 'PER': 769}"
            ]
          },
          "metadata": {},
          "execution_count": 16
        }
      ]
    },
    {
      "cell_type": "code",
      "metadata": {
        "colab": {
          "base_uri": "https://localhost:8080/",
          "height": 237
        },
        "id": "5R6woezudjJu",
        "outputId": "cb044880-a82a-4b56-82a1-a4a4416c1301"
      },
      "source": [
        "pd.DataFrame({'tag': sorted(list(bio_domains.keys())),\n",
        "              'number of occurence in corpus': [bio_domains[i] for i in sorted(list(bio_domains.keys()))]})"
      ],
      "execution_count": 17,
      "outputs": [
        {
          "output_type": "execute_result",
          "data": {
            "text/html": [
              "<div>\n",
              "<style scoped>\n",
              "    .dataframe tbody tr th:only-of-type {\n",
              "        vertical-align: middle;\n",
              "    }\n",
              "\n",
              "    .dataframe tbody tr th {\n",
              "        vertical-align: top;\n",
              "    }\n",
              "\n",
              "    .dataframe thead th {\n",
              "        text-align: right;\n",
              "    }\n",
              "</style>\n",
              "<table border=\"1\" class=\"dataframe\">\n",
              "  <thead>\n",
              "    <tr style=\"text-align: right;\">\n",
              "      <th></th>\n",
              "      <th>tag</th>\n",
              "      <th>number of occurence in corpus</th>\n",
              "    </tr>\n",
              "  </thead>\n",
              "  <tbody>\n",
              "    <tr>\n",
              "      <th>0</th>\n",
              "      <td>CHAR</td>\n",
              "      <td>316</td>\n",
              "    </tr>\n",
              "    <tr>\n",
              "      <th>1</th>\n",
              "      <td>FAC</td>\n",
              "      <td>12</td>\n",
              "    </tr>\n",
              "    <tr>\n",
              "      <th>2</th>\n",
              "      <td>LOC</td>\n",
              "      <td>109</td>\n",
              "    </tr>\n",
              "    <tr>\n",
              "      <th>3</th>\n",
              "      <td>O</td>\n",
              "      <td>22119</td>\n",
              "    </tr>\n",
              "    <tr>\n",
              "      <th>4</th>\n",
              "      <td>ORG</td>\n",
              "      <td>29</td>\n",
              "    </tr>\n",
              "    <tr>\n",
              "      <th>5</th>\n",
              "      <td>PER</td>\n",
              "      <td>769</td>\n",
              "    </tr>\n",
              "  </tbody>\n",
              "</table>\n",
              "</div>"
            ],
            "text/plain": [
              "    tag  number of occurence in corpus\n",
              "0  CHAR                            316\n",
              "1   FAC                             12\n",
              "2   LOC                            109\n",
              "3     O                          22119\n",
              "4   ORG                             29\n",
              "5   PER                            769"
            ]
          },
          "metadata": {},
          "execution_count": 17
        }
      ]
    },
    {
      "cell_type": "code",
      "metadata": {
        "colab": {
          "base_uri": "https://localhost:8080/",
          "height": 381
        },
        "id": "vogDgkHGXx8k",
        "outputId": "7465d378-d5d4-4cf6-d69e-eac518c8651e"
      },
      "source": [
        "# del bio_domains['O']\n",
        "x, y, cols = dict_col(bio_domains, colors)\n",
        "plt.figure(figsize=(10, 5))\n",
        "plt.xticks(rotation=70)\n",
        "plt.bar(x,\n",
        "        np.log(list(y)),\n",
        "       color=cols)\n",
        "plt.xlabel('Slot type', size=14)\n",
        "plt.ylabel('Logged number of tags', size=14)\n",
        "plt.title('Logged distribution of intent types in Prozhito corpus', size=15)\n",
        "plt.show()"
      ],
      "execution_count": 18,
      "outputs": [
        {
          "output_type": "display_data",
          "data": {
            "image/png": "[encoded data removed]",
            "text/plain": [
              "<Figure size 720x360 with 1 Axes>"
            ]
          },
          "metadata": {}
        }
      ]
    },
    {
      "cell_type": "code",
      "metadata": {
        "colab": {
          "base_uri": "https://localhost:8080/",
          "height": 265
        },
        "id": "QKjqs-g0atn6",
        "outputId": "32b9cc71-d885-4ba4-8ae4-823be4200740"
      },
      "source": [
        "plt.pie(list(y), labels = x, colors=cols)\n",
        "plt.title('Logged distribution of intent types in Prozhito corpus', size=15)\n",
        "plt.show()"
      ],
      "execution_count": 19,
      "outputs": [
        {
          "output_type": "display_data",
          "data": {
            "image/png": "[encoded data removed]",
            "text/plain": [
              "<Figure size 432x288 with 1 Axes>"
            ]
          },
          "metadata": {}
        }
      ]
    },
    {
      "cell_type": "markdown",
      "metadata": {
        "id": "FoQmzUdyZ6ey"
      },
      "source": [
        "# Train-test-val split"
      ]
    },
    {
      "cell_type": "code",
      "metadata": {
        "colab": {
          "base_uri": "https://localhost:8080/",
          "height": 206
        },
        "id": "8xoD-HR1pPNW",
        "outputId": "0446d896-32ee-4147-90ea-00c546723d99"
      },
      "source": [
        "df = df[['tokens', 'BIO_nums']]\n",
        "df.columns = ['tokens', 'labels']\n",
        "df.head()"
      ],
      "execution_count": 20,
      "outputs": [
        {
          "output_type": "execute_result",
          "data": {
            "text/html": [
              "<div>\n",
              "<style scoped>\n",
              "    .dataframe tbody tr th:only-of-type {\n",
              "        vertical-align: middle;\n",
              "    }\n",
              "\n",
              "    .dataframe tbody tr th {\n",
              "        vertical-align: top;\n",
              "    }\n",
              "\n",
              "    .dataframe thead th {\n",
              "        text-align: right;\n",
              "    }\n",
              "</style>\n",
              "<table border=\"1\" class=\"dataframe\">\n",
              "  <thead>\n",
              "    <tr style=\"text-align: right;\">\n",
              "      <th></th>\n",
              "      <th>tokens</th>\n",
              "      <th>labels</th>\n",
              "    </tr>\n",
              "  </thead>\n",
              "  <tbody>\n",
              "    <tr>\n",
              "      <th>0</th>\n",
              "      <td>У меня большая симпатия к Лукьянину — человек ...</td>\n",
              "      <td>[10, 10, 10, 10, 10, 10, 10, 10, 10, 10, 10, 1...</td>\n",
              "    </tr>\n",
              "    <tr>\n",
              "      <th>1</th>\n",
              "      <td>Потому , что не было уверенности , что все чит...</td>\n",
              "      <td>[10, 10, 10, 10, 10, 10, 10, 10, 10, 10, 10, 1...</td>\n",
              "    </tr>\n",
              "    <tr>\n",
              "      <th>2</th>\n",
              "      <td>&gt; Каким приговором , указом каким &gt; Ты здесь ,...</td>\n",
              "      <td>[10, 10, 10, 10, 10, 10, 10, 10, 10, 10, 10, 1...</td>\n",
              "    </tr>\n",
              "    <tr>\n",
              "      <th>3</th>\n",
              "      <td>Подумал , что летом ребята куда затащили .</td>\n",
              "      <td>[10, 10, 10, 10, 8, 10, 10, 10]</td>\n",
              "    </tr>\n",
              "    <tr>\n",
              "      <th>4</th>\n",
              "      <td>Нашел потрясающие материалы о В . М . Брадисе ...</td>\n",
              "      <td>[10, 10, 10, 10, 6, 7, 7, 7, 7, 10, 10, 8, 8, ...</td>\n",
              "    </tr>\n",
              "  </tbody>\n",
              "</table>\n",
              "</div>"
            ],
            "text/plain": [
              "                                              tokens                                             labels\n",
              "0  У меня большая симпатия к Лукьянину — человек ...  [10, 10, 10, 10, 10, 10, 10, 10, 10, 10, 10, 1...\n",
              "1  Потому , что не было уверенности , что все чит...  [10, 10, 10, 10, 10, 10, 10, 10, 10, 10, 10, 1...\n",
              "2  > Каким приговором , указом каким > Ты здесь ,...  [10, 10, 10, 10, 10, 10, 10, 10, 10, 10, 10, 1...\n",
              "3         Подумал , что летом ребята куда затащили .                    [10, 10, 10, 10, 8, 10, 10, 10]\n",
              "4  Нашел потрясающие материалы о В . М . Брадисе ...  [10, 10, 10, 10, 6, 7, 7, 7, 7, 10, 10, 8, 8, ..."
            ]
          },
          "metadata": {},
          "execution_count": 20
        }
      ]
    },
    {
      "cell_type": "code",
      "metadata": {
        "id": "bAPIhfHuYL_G"
      },
      "source": [
        "dict_tags = {}\n",
        "for i, labels in enumerate(df['labels']):\n",
        "  unique_tags = set(labels)\n",
        "  for ut in unique_tags:\n",
        "    if ut not in dict_tags:\n",
        "      dict_tags[ut] = [i]\n",
        "    else:\n",
        "      dict_tags[ut].append(i)"
      ],
      "execution_count": 21,
      "outputs": []
    },
    {
      "cell_type": "code",
      "metadata": {
        "id": "b2A082RXvC1O"
      },
      "source": [
        "bio_counter_reversed = {value: key for key, value in bio_counter.items()}\n",
        "BIO_dict_reversed = {value: key for key, value in BIO_dict.items()}"
      ],
      "execution_count": 22,
      "outputs": []
    },
    {
      "cell_type": "code",
      "metadata": {
        "id": "e7o64hcwvKir"
      },
      "source": [
        "train = set()\n",
        "for key, value in sorted(bio_counter_reversed.items()):\n",
        "  if key > 4:\n",
        "    ut = BIO_dict[bio_counter_reversed[key]]\n",
        "    train, test_val = train_test_split(dict_tags[ut], test_size = 0.25, random_state = 10)\n",
        "    train = set(train)\n",
        "    test_val = set(test_val)\n",
        "  else:\n",
        "    ut = BIO_dict[bio_counter_reversed[key]]\n",
        "    to_add = dict_tags[ut]\n",
        "    train = train.union(to_add)"
      ],
      "execution_count": 23,
      "outputs": []
    },
    {
      "cell_type": "code",
      "metadata": {
        "colab": {
          "base_uri": "https://localhost:8080/"
        },
        "id": "eTh1je2evKna",
        "outputId": "1790995a-19b5-4005-b700-67dfe899354a"
      },
      "source": [
        "train.intersection(test_val)"
      ],
      "execution_count": 24,
      "outputs": [
        {
          "output_type": "execute_result",
          "data": {
            "text/plain": [
              "set()"
            ]
          },
          "metadata": {},
          "execution_count": 24
        }
      ]
    },
    {
      "cell_type": "code",
      "metadata": {
        "id": "lU5ioqbKvC9H",
        "colab": {
          "base_uri": "https://localhost:8080/",
          "height": 143
        },
        "outputId": "ddbfe8ca-71b4-4653-fde4-a0a5cac7eebd"
      },
      "source": [
        "train = df.iloc[list(train)]\n",
        "train.to_csv('train_df_new.csv', encoding='utf-8')\n",
        "train.head(3)"
      ],
      "execution_count": 25,
      "outputs": [
        {
          "output_type": "execute_result",
          "data": {
            "text/html": [
              "<div>\n",
              "<style scoped>\n",
              "    .dataframe tbody tr th:only-of-type {\n",
              "        vertical-align: middle;\n",
              "    }\n",
              "\n",
              "    .dataframe tbody tr th {\n",
              "        vertical-align: top;\n",
              "    }\n",
              "\n",
              "    .dataframe thead th {\n",
              "        text-align: right;\n",
              "    }\n",
              "</style>\n",
              "<table border=\"1\" class=\"dataframe\">\n",
              "  <thead>\n",
              "    <tr style=\"text-align: right;\">\n",
              "      <th></th>\n",
              "      <th>tokens</th>\n",
              "      <th>labels</th>\n",
              "    </tr>\n",
              "  </thead>\n",
              "  <tbody>\n",
              "    <tr>\n",
              "      <th>0</th>\n",
              "      <td>У меня большая симпатия к Лукьянину — человек ...</td>\n",
              "      <td>[10, 10, 10, 10, 10, 10, 10, 10, 10, 10, 10, 1...</td>\n",
              "    </tr>\n",
              "    <tr>\n",
              "      <th>2</th>\n",
              "      <td>&gt; Каким приговором , указом каким &gt; Ты здесь ,...</td>\n",
              "      <td>[10, 10, 10, 10, 10, 10, 10, 10, 10, 10, 10, 1...</td>\n",
              "    </tr>\n",
              "    <tr>\n",
              "      <th>3</th>\n",
              "      <td>Подумал , что летом ребята куда затащили .</td>\n",
              "      <td>[10, 10, 10, 10, 8, 10, 10, 10]</td>\n",
              "    </tr>\n",
              "  </tbody>\n",
              "</table>\n",
              "</div>"
            ],
            "text/plain": [
              "                                              tokens                                             labels\n",
              "0  У меня большая симпатия к Лукьянину — человек ...  [10, 10, 10, 10, 10, 10, 10, 10, 10, 10, 10, 1...\n",
              "2  > Каким приговором , указом каким > Ты здесь ,...  [10, 10, 10, 10, 10, 10, 10, 10, 10, 10, 10, 1...\n",
              "3         Подумал , что летом ребята куда затащили .                    [10, 10, 10, 10, 8, 10, 10, 10]"
            ]
          },
          "metadata": {},
          "execution_count": 25
        }
      ]
    },
    {
      "cell_type": "code",
      "metadata": {
        "id": "eCqtrgMLxqun"
      },
      "source": [
        "test_val_df = df.iloc[list(test_val)]"
      ],
      "execution_count": 26,
      "outputs": []
    },
    {
      "cell_type": "code",
      "metadata": {
        "id": "iTIyUccIxqy6"
      },
      "source": [
        "dict_tags = {}\n",
        "for i, labels in enumerate(test_val_df['labels']):\n",
        "  unique_tags = set(labels)\n",
        "  for ut in unique_tags:\n",
        "    if ut not in dict_tags:\n",
        "      dict_tags[ut] = [i]\n",
        "    else:\n",
        "      dict_tags[ut].append(i)"
      ],
      "execution_count": 28,
      "outputs": []
    },
    {
      "cell_type": "code",
      "metadata": {
        "id": "tUooEK6cyQCw"
      },
      "source": [
        "for key, value in sorted(bio_counter_reversed.items()):\n",
        "  if BIO_dict[value] in dict_tags.keys():\n",
        "    if key > 4:\n",
        "      ut = BIO_dict[bio_counter_reversed[key]]\n",
        "      test, val = train_test_split(dict_tags[ut], test_size = 0.35, random_state = 10)\n",
        "      test = set(test)\n",
        "      val = set(val)\n",
        "    else:\n",
        "      ut = BIO_dict[bio_counter_reversed[key]]\n",
        "      to_add = dict_tags[ut]\n",
        "      test = test.union(to_add)"
      ],
      "execution_count": 29,
      "outputs": []
    },
    {
      "cell_type": "code",
      "metadata": {
        "id": "n-b3MGj6yQOj"
      },
      "source": [
        "val = df.iloc[list(val)]\n",
        "val.to_csv('val_df_new.csv', encoding='utf-8')\n",
        "test = df.iloc[list(test)]\n",
        "test.to_csv('test_df_new.csv', encoding='utf-8')"
      ],
      "execution_count": 30,
      "outputs": []
    },
    {
      "cell_type": "code",
      "metadata": {
        "id": "sHfSyaKkxWXC",
        "colab": {
          "base_uri": "https://localhost:8080/",
          "height": 143
        },
        "outputId": "426a4f3e-a18f-425c-c346-ed247ddf0a22"
      },
      "source": [
        "val.head(3)"
      ],
      "execution_count": 31,
      "outputs": [
        {
          "output_type": "execute_result",
          "data": {
            "text/html": [
              "<div>\n",
              "<style scoped>\n",
              "    .dataframe tbody tr th:only-of-type {\n",
              "        vertical-align: middle;\n",
              "    }\n",
              "\n",
              "    .dataframe tbody tr th {\n",
              "        vertical-align: top;\n",
              "    }\n",
              "\n",
              "    .dataframe thead th {\n",
              "        text-align: right;\n",
              "    }\n",
              "</style>\n",
              "<table border=\"1\" class=\"dataframe\">\n",
              "  <thead>\n",
              "    <tr style=\"text-align: right;\">\n",
              "      <th></th>\n",
              "      <th>tokens</th>\n",
              "      <th>labels</th>\n",
              "    </tr>\n",
              "  </thead>\n",
              "  <tbody>\n",
              "    <tr>\n",
              "      <th>1</th>\n",
              "      <td>Потому , что не было уверенности , что все чит...</td>\n",
              "      <td>[10, 10, 10, 10, 10, 10, 10, 10, 10, 10, 10, 1...</td>\n",
              "    </tr>\n",
              "    <tr>\n",
              "      <th>6</th>\n",
              "      <td>Уж то ростовское дело куда ярче !..</td>\n",
              "      <td>[10, 10, 10, 10, 10, 10, 10]</td>\n",
              "    </tr>\n",
              "    <tr>\n",
              "      <th>7</th>\n",
              "      <td>17 апреля был необычный день .</td>\n",
              "      <td>[10, 10, 10, 10, 10, 10]</td>\n",
              "    </tr>\n",
              "  </tbody>\n",
              "</table>\n",
              "</div>"
            ],
            "text/plain": [
              "                                              tokens                                             labels\n",
              "1  Потому , что не было уверенности , что все чит...  [10, 10, 10, 10, 10, 10, 10, 10, 10, 10, 10, 1...\n",
              "6                Уж то ростовское дело куда ярче !..                       [10, 10, 10, 10, 10, 10, 10]\n",
              "7                     17 апреля был необычный день .                           [10, 10, 10, 10, 10, 10]"
            ]
          },
          "metadata": {},
          "execution_count": 31
        }
      ]
    },
    {
      "cell_type": "code",
      "metadata": {
        "colab": {
          "base_uri": "https://localhost:8080/",
          "height": 143
        },
        "id": "VB7dSvOMxWbG",
        "outputId": "23e814ab-1ab8-49c7-d842-9092c42fc3bf"
      },
      "source": [
        "test.head(3)"
      ],
      "execution_count": 32,
      "outputs": [
        {
          "output_type": "execute_result",
          "data": {
            "text/html": [
              "<div>\n",
              "<style scoped>\n",
              "    .dataframe tbody tr th:only-of-type {\n",
              "        vertical-align: middle;\n",
              "    }\n",
              "\n",
              "    .dataframe tbody tr th {\n",
              "        vertical-align: top;\n",
              "    }\n",
              "\n",
              "    .dataframe thead th {\n",
              "        text-align: right;\n",
              "    }\n",
              "</style>\n",
              "<table border=\"1\" class=\"dataframe\">\n",
              "  <thead>\n",
              "    <tr style=\"text-align: right;\">\n",
              "      <th></th>\n",
              "      <th>tokens</th>\n",
              "      <th>labels</th>\n",
              "    </tr>\n",
              "  </thead>\n",
              "  <tbody>\n",
              "    <tr>\n",
              "      <th>0</th>\n",
              "      <td>У меня большая симпатия к Лукьянину — человек ...</td>\n",
              "      <td>[10, 10, 10, 10, 10, 10, 10, 10, 10, 10, 10, 1...</td>\n",
              "    </tr>\n",
              "    <tr>\n",
              "      <th>2</th>\n",
              "      <td>&gt; Каким приговором , указом каким &gt; Ты здесь ,...</td>\n",
              "      <td>[10, 10, 10, 10, 10, 10, 10, 10, 10, 10, 10, 1...</td>\n",
              "    </tr>\n",
              "    <tr>\n",
              "      <th>3</th>\n",
              "      <td>Подумал , что летом ребята куда затащили .</td>\n",
              "      <td>[10, 10, 10, 10, 8, 10, 10, 10]</td>\n",
              "    </tr>\n",
              "  </tbody>\n",
              "</table>\n",
              "</div>"
            ],
            "text/plain": [
              "                                              tokens                                             labels\n",
              "0  У меня большая симпатия к Лукьянину — человек ...  [10, 10, 10, 10, 10, 10, 10, 10, 10, 10, 10, 1...\n",
              "2  > Каким приговором , указом каким > Ты здесь ,...  [10, 10, 10, 10, 10, 10, 10, 10, 10, 10, 10, 1...\n",
              "3         Подумал , что летом ребята куда затащили .                    [10, 10, 10, 10, 8, 10, 10, 10]"
            ]
          },
          "metadata": {},
          "execution_count": 32
        }
      ]
    }
  ]
}